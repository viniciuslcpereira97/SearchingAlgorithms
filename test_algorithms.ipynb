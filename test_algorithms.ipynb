{
 "cells": [
  {
   "cell_type": "code",
   "execution_count": 8,
   "metadata": {},
   "outputs": [],
   "source": [
    "# Importing algorithms, creating numbers array and defining the search number \n",
    "\n",
    "import binary_search as binary\n",
    "import linear_search as linear\n",
    "import jump_search as jump\n",
    "\n",
    "arr = [4, 5, 6, 7, 8, 9]\n",
    "\n",
    "n = 4"
   ]
  },
  {
   "cell_type": "code",
   "execution_count": 9,
   "metadata": {},
   "outputs": [
    {
     "name": "stdout",
     "output_type": "stream",
     "text": [
      "binary search interative mode executed in 0:00:00.000015\n",
      "linear search interative mode executed in 0:00:00.000006\n",
      "jump search interative mode executed in 0:00:00.000008\n"
     ]
    },
    {
     "data": {
      "text/plain": [
       "4"
      ]
     },
     "execution_count": 9,
     "metadata": {},
     "output_type": "execute_result"
    }
   ],
   "source": [
    "# Running algorithms in interative mode\n",
    "\n",
    "binary.search(n, arr)\n",
    "linear.search(n, arr)\n",
    "jump.search(n, arr)"
   ]
  },
  {
   "cell_type": "code",
   "execution_count": 10,
   "metadata": {},
   "outputs": [
    {
     "name": "stdout",
     "output_type": "stream",
     "text": [
      "binary search recursive mode executed in 0:00:00.000003\n",
      "linear search recursive mode executed in 0:00:00.000012\n"
     ]
    },
    {
     "data": {
      "text/plain": [
       "4"
      ]
     },
     "execution_count": 10,
     "metadata": {},
     "output_type": "execute_result"
    }
   ],
   "source": [
    "# Running algorithms in recursive mode\n",
    "\n",
    "binary.recursive(n, arr)\n",
    "linear.recursive(n, arr)"
   ]
  }
 ],
 "metadata": {
  "kernelspec": {
   "display_name": "Python 2",
   "language": "python",
   "name": "python2"
  },
  "language_info": {
   "codemirror_mode": {
    "name": "ipython",
    "version": 2
   },
   "file_extension": ".py",
   "mimetype": "text/x-python",
   "name": "python",
   "nbconvert_exporter": "python",
   "pygments_lexer": "ipython2",
   "version": "2.7.13"
  }
 },
 "nbformat": 4,
 "nbformat_minor": 2
}

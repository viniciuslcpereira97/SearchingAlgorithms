{
 "cells": [
  {
   "cell_type": "code",
   "execution_count": null,
   "metadata": {
    "collapsed": true
   },
   "outputs": [],
   "source": [
    "import binary_search as binary\n",
    "import linear_search as linear\n",
    "import jump_search as jump\n",
    "\n",
    "arr = [4, 5, 6, 7, 8, 9]\n",
    "\n",
    "binary.search(4, arr)\n",
    "linear.search(4, arr)\n",
    "\n",
    "binary.recursive(4, arr)\n",
    "linear.recursive(4)"
   ]
  }
 ],
 "metadata": {
  "kernelspec": {
   "display_name": "Python 2",
   "language": "python",
   "name": "python2"
  },
  "language_info": {
   "codemirror_mode": {
    "name": "ipython",
    "version": 2
   },
   "file_extension": ".py",
   "mimetype": "text/x-python",
   "name": "python",
   "nbconvert_exporter": "python",
   "pygments_lexer": "ipython2",
   "version": "2.7.13"
  }
 },
 "nbformat": 4,
 "nbformat_minor": 2
}

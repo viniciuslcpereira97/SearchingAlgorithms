{
 "cells": [
  {
   "cell_type": "code",
   "execution_count": 3,
   "metadata": {},
   "outputs": [
    {
     "name": "stdout",
     "output_type": "stream",
     "text": [
      "binary search interative mode executed in 0:00:00.000026\n",
      "linear search interative mode executed in 0:00:00.000017\n",
      "binary search recursive mode executed in 0:00:00.000004\n",
      "linear search recursive mode executed in 0:00:00.000013\n",
      "jump search interative mode executed in 0:00:00.000012\n"
     ]
    },
    {
     "data": {
      "text/plain": [
       "4"
      ]
     },
     "execution_count": 3,
     "metadata": {},
     "output_type": "execute_result"
    }
   ],
   "source": [
    "import binary_search as binary\n",
    "import linear_search as linear\n",
    "import jump_search as jump\n",
    "\n",
    "arr = [4, 5, 6, 7, 8, 9]\n",
    "\n",
    "binary.search(4, arr)\n",
    "linear.search(4, arr)\n",
    "\n",
    "binary.recursive(4, arr)\n",
    "linear.recursive(4, arr)\n",
    "\n",
    "jump.search(4, arr)"
   ]
  },
  {
   "cell_type": "code",
   "execution_count": null,
   "metadata": {
    "collapsed": true
   },
   "outputs": [],
   "source": []
  }
 ],
 "metadata": {
  "kernelspec": {
   "display_name": "Python 2",
   "language": "python",
   "name": "python2"
  },
  "language_info": {
   "codemirror_mode": {
    "name": "ipython",
    "version": 2
   },
   "file_extension": ".py",
   "mimetype": "text/x-python",
   "name": "python",
   "nbconvert_exporter": "python",
   "pygments_lexer": "ipython2",
   "version": "2.7.13"
  }
 },
 "nbformat": 4,
 "nbformat_minor": 2
}
